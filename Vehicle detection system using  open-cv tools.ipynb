{
 "cells": [
  {
   "cell_type": "markdown",
   "id": "1b434d36",
   "metadata": {},
   "source": [
    "# IMPORT THE LIBRARIES"
   ]
  },
  {
   "cell_type": "code",
   "execution_count": 4,
   "id": "3444ccc2",
   "metadata": {},
   "outputs": [],
   "source": [
    "import cv2\n",
    "import numpy as np\n",
    "from time import sleep"
   ]
  },
  {
   "cell_type": "markdown",
   "id": "427766be",
   "metadata": {},
   "source": [
    "# SET THE VALUES "
   ]
  },
  {
   "cell_type": "code",
   "execution_count": 5,
   "id": "69588c58",
   "metadata": {},
   "outputs": [],
   "source": [
    "largura_min=80 \n",
    "altura_min=80 \n",
    "offset=6"
   ]
  },
  {
   "cell_type": "code",
   "execution_count": 6,
   "id": "94cd2a9e",
   "metadata": {},
   "outputs": [],
   "source": [
    "pos_linha=550\n",
    "\n",
    "delay= 60\n",
    "\n",
    "detec = []\n",
    "carros= 0\n"
   ]
  },
  {
   "cell_type": "markdown",
   "id": "e6c41952",
   "metadata": {},
   "source": [
    "# CREATE THE FUNCTIONS"
   ]
  },
  {
   "cell_type": "code",
   "execution_count": 11,
   "id": "6781e293",
   "metadata": {},
   "outputs": [],
   "source": [
    "def pega_centro(x, y, w, h):\n",
    "    x1 = int(w / 2)\n",
    "    y1 = int(h / 2)\n",
    "    cx = x + x1\n",
    "    cy = y + y1\n",
    "    return cx,cy\n",
    "\n",
    "cap = cv2.VideoCapture(\"C:\\Users\\Abinashkumar\\Videos\\CAR VIDEOS.mp4\")\n",
    "subtracao = cv2.bgsegm.createBackgroundSubtractorMOG()\n"
   ]
  },
  {
   "cell_type": "markdown",
   "id": "5c10adf6",
   "metadata": {},
   "source": [
    "# DETECT THE Vehicles"
   ]
  },
  {
   "cell_type": "code",
   "execution_count": 14,
   "id": "cb3361de",
   "metadata": {},
   "outputs": [],
   "source": [
    "while True:\n",
    "    ret , frame1 = cap.read()\n",
    "    tempo = float(1/delay)\n",
    "    sleep(tempo) \n",
    "    grey = cv2.cvtColor(frame1,cv2.COLOR_BGR2GRAY)\n",
    "    blur = cv2.GaussianBlur(grey,(3,3),5)\n",
    "    img_sub = subtracao.apply(blur)\n",
    "    dilat = cv2.dilate(img_sub,np.ones((5,5)))\n",
    "    kernel = cv2.getStructuringElement(cv2.MORPH_ELLIPSE, (5, 5))\n",
    "    dilatada = cv2.morphologyEx (dilat, cv2. MORPH_CLOSE , kernel)\n",
    "    dilatada = cv2.morphologyEx (dilatada, cv2. MORPH_CLOSE , kernel)\n",
    "    contorno,h=cv2.findContours(dilatada,cv2.RETR_TREE,cv2.CHAIN_APPROX_SIMPLE)\n",
    "    \n",
    "    cv2.line(frame1, (25, pos_linha), (1200, pos_linha), (255,127,0), 3) \n",
    "    for(i,c) in enumerate(contorno):\n",
    "        (x,y,w,h) = cv2.boundingRect(c)\n",
    "        validar_contorno = (w >= largura_min) and (h >= altura_min)\n",
    "        if not validar_contorno:\n",
    "            continue\n",
    "\n",
    "        cv2.rectangle(frame1,(x,y),(x+w,y+h),(0,255,0),2)        \n",
    "        centro = pega_centro(x, y, w, h)\n",
    "        detec.append(centro)\n",
    "        cv2.circle(frame1, centro, 4, (0, 0,255), -1)\n",
    "\n",
    "        for (x,y) in detec:\n",
    "            if y<(pos_linha+offset) and y>(pos_linha-offset):\n",
    "                carros+=1\n",
    "                cv2.line(frame1, (25, pos_linha), (1200, pos_linha), (0,127,255), 3)  \n",
    "                detec.remove((x,y))\n",
    "                print(\"car is detected : \"+str(carros))        \n",
    "       \n",
    "    cv2.putText(frame1, \"VEHICLE COUNT : \"+str(carros), (450, 70), cv2.FONT_HERSHEY_SIMPLEX, 2, (0, 0, 255),5)\n",
    "    cv2.imshow(\"Video Original\" , frame1)\n",
    "    cv2.imshow(\"Detectar\",dilatada)\n",
    "\n",
    "    if cv2.waitKey(1) == 27:\n",
    "        break\n",
    "    \n",
    "cv2.destroyAllWindows()\n",
    "cap.release()'''"
   ]
  },
  {
   "cell_type": "code",
   "execution_count": null,
   "id": "39e10ab0",
   "metadata": {},
   "outputs": [],
   "source": []
  },
  {
   "cell_type": "code",
   "execution_count": null,
   "id": "72391c75",
   "metadata": {},
   "outputs": [],
   "source": []
  },
  {
   "cell_type": "code",
   "execution_count": null,
   "id": "00261006",
   "metadata": {},
   "outputs": [],
   "source": []
  },
  {
   "cell_type": "code",
   "execution_count": null,
   "id": "8754e873",
   "metadata": {},
   "outputs": [],
   "source": []
  },
  {
   "cell_type": "code",
   "execution_count": null,
   "id": "5ddbb550",
   "metadata": {},
   "outputs": [],
   "source": []
  },
  {
   "cell_type": "code",
   "execution_count": null,
   "id": "64023399",
   "metadata": {},
   "outputs": [],
   "source": []
  },
  {
   "cell_type": "code",
   "execution_count": null,
   "id": "5de94b30",
   "metadata": {},
   "outputs": [],
   "source": []
  },
  {
   "cell_type": "code",
   "execution_count": null,
   "id": "fe56d711",
   "metadata": {},
   "outputs": [],
   "source": []
  },
  {
   "cell_type": "code",
   "execution_count": null,
   "id": "92b95581",
   "metadata": {},
   "outputs": [],
   "source": []
  }
 ],
 "metadata": {
  "kernelspec": {
   "display_name": "Python 3 (ipykernel)",
   "language": "python",
   "name": "python3"
  },
  "language_info": {
   "codemirror_mode": {
    "name": "ipython",
    "version": 3
   },
   "file_extension": ".py",
   "mimetype": "text/x-python",
   "name": "python",
   "nbconvert_exporter": "python",
   "pygments_lexer": "ipython3",
   "version": "3.9.13"
  }
 },
 "nbformat": 4,
 "nbformat_minor": 5
}
